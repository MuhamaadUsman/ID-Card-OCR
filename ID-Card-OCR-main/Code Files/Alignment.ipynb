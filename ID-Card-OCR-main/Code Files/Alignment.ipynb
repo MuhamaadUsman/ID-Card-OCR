{
 "cells": [
  {
   "cell_type": "code",
   "execution_count": null,
   "id": "58a3b7e2",
   "metadata": {},
   "outputs": [],
   "source": [
    "import numpy as np\n",
    "import cv2 as cv\n",
    "from math import sqrt\n",
    "import numpy as np\n",
    "from PIL import Image"
   ]
  },
  {
   "cell_type": "code",
   "execution_count": null,
   "id": "886735ef",
   "metadata": {},
   "outputs": [],
   "source": [
    "def order_points(pts):\n",
    "    \n",
    "    rect = np.zeros((4, 2), dtype = \"float32\")\n",
    "    s = pts.sum(axis = 1)\n",
    "    rect[0] = pts[np.argmin(s)]\n",
    "    rect[2] = pts[np.argmax(s)]\n",
    "    diff = np.diff(pts, axis = 1)\n",
    "    rect[1] = pts[np.argmin(diff)]\n",
    "    rect[3] = pts[np.argmax(diff)]\n",
    "\n",
    "    return rect"
   ]
  },
  {
   "cell_type": "code",
   "execution_count": null,
   "id": "4eb4bba2",
   "metadata": {},
   "outputs": [],
   "source": [
    "def four_point_transform(image, pts):\n",
    "\n",
    "    rect = order_points(pts)\n",
    "    (tl, tr, br, bl) = rect\n",
    "    widthA = np.sqrt(((br[0] - bl[0]) ** 2) + ((br[1] - bl[1]) ** 2))\n",
    "    widthB = np.sqrt(((tr[0] - tl[0]) ** 2) + ((tr[1] - tl[1]) ** 2))\n",
    "    maxWidth = max(int(widthA), int(widthB))\n",
    "    heightA = np.sqrt(((tr[0] - br[0]) ** 2) + ((tr[1] - br[1]) ** 2))\n",
    "    heightB = np.sqrt(((tl[0] - bl[0]) ** 2) + ((tl[1] - bl[1]) ** 2))\n",
    "    maxHeight = max(int(heightA), int(heightB))\n",
    "    dst = np.array([\n",
    "        [0, 0],\n",
    "        [maxWidth - 1, 0],\n",
    "        [maxWidth - 1, maxHeight - 1],\n",
    "        [0, maxHeight - 1]], dtype = \"float32\")\n",
    "\n",
    "    M = cv.getPerspectiveTransform(rect, dst)\n",
    "    warped = cv.warpPerspective(image, M, (maxWidth, maxHeight))\n",
    "    \n",
    "    return warped"
   ]
  },
  {
   "cell_type": "code",
   "execution_count": null,
   "id": "e98d7b6c",
   "metadata": {},
   "outputs": [],
   "source": [
    "def Alignment(data, image):\n",
    "    \n",
    "    bboxes = data['boxes']\n",
    "    segments = data['segments']\n",
    " \n",
    "    bbox = bboxes[i]\n",
    "    bbox = [int(bbox) for bbox in bbox]\n",
    "    bbox = [0 if i < 0 else i for i in bbox]\n",
    "    bbox = [bbox[0], bbox[1], bbox[0]+bbox[2], bbox[1]+bbox[3]]\n",
    "    segment_list = segments[i][0]\n",
    "    segment_list = [int(segment_list) for segment_list in segment_list]\n",
    "    segment_list = [0 if i < 0 else i for i in segment_list]\n",
    "    x_segement = segment_list[0::2]\n",
    "    y_segement = segment_list[1::2]\n",
    "    segemnts_2d = np.array(list(zip(x_segement, y_segement)))\n",
    "    pts = segemnts_2d\n",
    "    \n",
    "    warped = four_point_transform(image, pts)\n",
    "        \n",
    "    return warped"
   ]
  },
  {
   "cell_type": "code",
   "execution_count": null,
   "id": "31dbc066",
   "metadata": {},
   "outputs": [],
   "source": [
    "warped = Alignment(data, image)\n",
    "\n",
    "# Opencv to PIL conversion for GAN model \n",
    "\n",
    "# color_coverted = cv.cvtColor(warped, cv.COLOR_BGR2RGB)\n",
    "# pil_image = Image.fromarray(color_coverted).convert('RGB')"
   ]
  },
  {
   "cell_type": "code",
   "execution_count": null,
   "id": "876104fd",
   "metadata": {},
   "outputs": [],
   "source": []
  },
  {
   "cell_type": "code",
   "execution_count": null,
   "id": "497391d9",
   "metadata": {},
   "outputs": [],
   "source": []
  },
  {
   "cell_type": "code",
   "execution_count": null,
   "id": "dd10a93c",
   "metadata": {},
   "outputs": [],
   "source": []
  },
  {
   "cell_type": "code",
   "execution_count": null,
   "id": "7712c597",
   "metadata": {},
   "outputs": [],
   "source": []
  }
 ],
 "metadata": {
  "kernelspec": {
   "display_name": "Python 3",
   "language": "python",
   "name": "python3"
  },
  "language_info": {
   "codemirror_mode": {
    "name": "ipython",
    "version": 3
   },
   "file_extension": ".py",
   "mimetype": "text/x-python",
   "name": "python",
   "nbconvert_exporter": "python",
   "pygments_lexer": "ipython3",
   "version": "3.8.8"
  }
 },
 "nbformat": 4,
 "nbformat_minor": 5
}
