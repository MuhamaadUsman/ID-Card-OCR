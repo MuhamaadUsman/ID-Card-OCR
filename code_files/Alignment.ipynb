{
 "cells": [
  {
   "cell_type": "code",
   "execution_count": null,
   "id": "d8459582",
   "metadata": {},
   "outputs": [],
   "source": [
    "# Importing required modules\n",
    "import numpy as np  # NumPy for numerical operations\n",
    "import cv2 as cv    # OpenCV for image processing\n",
    "from math import sqrt # Importing sqrt function from math module\n",
    "import numpy as np  # Importing NumPy again (this is redundant)\n",
    "from PIL import Image  # Importing the Image class from PIL module"
   ]
  },
  {
   "cell_type": "code",
   "execution_count": null,
   "id": "e84eb513",
   "metadata": {},
   "outputs": [],
   "source": [
    "# Defining a function named 'order_points' that takes a single argument 'pts'\n",
    "def order_points(pts):\n",
    "    \n",
    "    # Initializing a numpy array with shape (4, 2) filled with zeros of dtype 'float32'\n",
    "    rect = np.zeros((4, 2), dtype = \"float32\")\n",
    "    \n",
    "    # Calculating the sum of elements of 'pts' along the first axis (column-wise) and storing it in 's'\n",
    "    s = pts.sum(axis = 1)\n",
    "    \n",
    "    # Assigning the point with minimum sum value of 's' to the first element of 'rect'\n",
    "    rect[0] = pts[np.argmin(s)]\n",
    "    \n",
    "    # Assigning the point with maximum sum value of 's' to the third element of 'rect'\n",
    "    rect[2] = pts[np.argmax(s)]\n",
    "    \n",
    "    # Computing the pairwise differences between consecutive elements of 'pts' along the second axis (row-wise) and storing it in 'diff'\n",
    "    diff = np.diff(pts, axis = 1)\n",
    "    \n",
    "    # Assigning the point with minimum difference value of 'diff' to the second element of 'rect'\n",
    "    rect[1] = pts[np.argmin(diff)]\n",
    "    \n",
    "    # Assigning the point with maximum difference value of 'diff' to the fourth element of 'rect'\n",
    "    rect[3] = pts[np.argmax(diff)]\n",
    "\n",
    "    # Returning the final value of 'rect' as the output of the function\n",
    "    return rect"
   ]
  },
  {
   "cell_type": "code",
   "execution_count": null,
   "id": "356dddc2",
   "metadata": {},
   "outputs": [],
   "source": [
    "def four_point_transform(image, pts):\n",
    "    \n",
    "    # Get the four corner points of the document\n",
    "    rect = order_points(pts)\n",
    "    \n",
    "    # Unpack the corner points\n",
    "    (tl, tr, br, bl) = rect\n",
    "    \n",
    "    # Compute the width of the new image\n",
    "    widthA = np.sqrt(((br[0] - bl[0]) ** 2) + ((br[1] - bl[1]) ** 2))\n",
    "    widthB = np.sqrt(((tr[0] - tl[0]) ** 2) + ((tr[1] - tl[1]) ** 2))\n",
    "    maxWidth = max(int(widthA), int(widthB))\n",
    "    \n",
    "    # Compute the height of the new image\n",
    "    heightA = np.sqrt(((tr[0] - br[0]) ** 2) + ((tr[1] - br[1]) ** 2))\n",
    "    heightB = np.sqrt(((tl[0] - bl[0]) ** 2) + ((tl[1] - bl[1]) ** 2))\n",
    "    maxHeight = max(int(heightA), int(heightB))\n",
    "    \n",
    "    # Create an array to store the new corner points\n",
    "    dst = np.array([\n",
    "        [0, 0],\n",
    "        [maxWidth - 1, 0],\n",
    "        [maxWidth - 1, maxHeight - 1],\n",
    "        [0, maxHeight - 1]], dtype = \"float32\")\n",
    "    \n",
    "    # Compute the perspective transform matrix\n",
    "    M = cv.getPerspectiveTransform(rect, dst)\n",
    "    \n",
    "    # Apply the perspective transform to the input image\n",
    "    warped = cv.warpPerspective(image, M, (maxWidth, maxHeight))\n",
    "    \n",
    "    # Return the warped image\n",
    "    return warped"
   ]
  },
  {
   "cell_type": "code",
   "execution_count": null,
   "id": "9dfcc9d9",
   "metadata": {},
   "outputs": [],
   "source": [
    "def Alignment(data, image):\n",
    "    \n",
    "    # Extract bounding boxes and segments data from input dictionary\n",
    "    bboxes = data['boxes']\n",
    "    segments = data['segments']\n",
    "\n",
    "    # Choose a single bounding box and its corresponding segments\n",
    "    bbox = bboxes[i]\n",
    "    \n",
    "    # Convert to integer and fix negative values\n",
    "    bbox = [int(bbox) for bbox in bbox]\n",
    "    bbox = [0 if i < 0 else i for i in bbox]\n",
    "    \n",
    "    # Convert bounding box to [x1, y1, x2, y2] format\n",
    "    bbox = [bbox[0], bbox[1], bbox[0]+bbox[2], bbox[1]+bbox[3]]\n",
    "    \n",
    "    # Get the segments list for this bounding box\n",
    "    segment_list = segments[i][0]\n",
    "    \n",
    "    # Convert to integer and fix negative values\n",
    "    segment_list = [int(segment_list) for segment_list in segment_list]\n",
    "    segment_list = [0 if i < 0 else i for i in segment_list]\n",
    "    \n",
    "    # Separate x and y coordinates of the segments\n",
    "    x_segement = segment_list[0::2]\n",
    "    y_segement = segment_list[1::2]\n",
    "    \n",
    "    # Create 2D array of segments points\n",
    "    segemnts_2d = np.array(list(zip(x_segement, y_segement)))\n",
    "    \n",
    "    # Extract the points in the segment as an array\n",
    "    pts = segemnts_2d\n",
    "\n",
    "    # Apply perspective transform to the input image using the extracted points\n",
    "    warped = four_point_transform(image, pts)\n",
    "\n",
    "    # Return the warped image\n",
    "    return warped"
   ]
  },
  {
   "cell_type": "code",
   "execution_count": null,
   "id": "58a3b7e2",
   "metadata": {},
   "outputs": [],
   "source": [
    "# Apply perspective transformation using Alignment function and save the result in 'warped'\n",
    "warped = Alignment(data, image)"
   ]
  },
  {
   "cell_type": "code",
   "execution_count": null,
   "id": "876104fd",
   "metadata": {},
   "outputs": [],
   "source": []
  },
  {
   "cell_type": "code",
   "execution_count": null,
   "id": "497391d9",
   "metadata": {},
   "outputs": [],
   "source": []
  },
  {
   "cell_type": "code",
   "execution_count": null,
   "id": "dd10a93c",
   "metadata": {},
   "outputs": [],
   "source": []
  },
  {
   "cell_type": "code",
   "execution_count": null,
   "id": "7712c597",
   "metadata": {},
   "outputs": [],
   "source": []
  }
 ],
 "metadata": {
  "kernelspec": {
   "display_name": "Python 3",
   "language": "python",
   "name": "python3"
  },
  "language_info": {
   "codemirror_mode": {
    "name": "ipython",
    "version": 3
   },
   "file_extension": ".py",
   "mimetype": "text/x-python",
   "name": "python",
   "nbconvert_exporter": "python",
   "pygments_lexer": "ipython3",
   "version": "3.8.8"
  }
 },
 "nbformat": 4,
 "nbformat_minor": 5
}
